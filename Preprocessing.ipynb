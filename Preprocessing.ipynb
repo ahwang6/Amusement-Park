{
 "cells": [
  {
   "cell_type": "code",
   "execution_count": 8,
   "metadata": {
    "collapsed": true
   },
   "outputs": [],
   "source": [
    "import pandas as pd\n",
    "import numpy as np\n",
    "import calendar"
   ]
  },
  {
   "cell_type": "code",
   "execution_count": 9,
   "metadata": {
    "collapsed": true
   },
   "outputs": [],
   "source": [
    "df=pd.read_csv('Train.csv')\n",
    "df['TimeStamp']=pd.to_datetime(df['TimeStamp'])\n",
    "df['Time']=df['TimeStamp'].dt.time\n",
    "df['Date']=df['TimeStamp'].dt.date\n",
    "df['Day']=df['TimeStamp'].dt.weekday_name"
   ]
  },
  {
   "cell_type": "code",
   "execution_count": 10,
   "metadata": {
    "collapsed": true
   },
   "outputs": [],
   "source": [
    "def isweekend(s):\n",
    "    if (s=='Saturday') or (s=='Sunday'):\n",
    "        return 1\n",
    "    else:\n",
    "        return 0\n",
    "def getmonth(x):\n",
    "    return x.month \n",
    "def season(y):\n",
    "    if (y==12) or (y==1) or (y==2):\n",
    "        return \"Winter\"\n",
    "    elif (y==3) or (y==4) or (y==5):\n",
    "        return \"Spring\"\n",
    "    elif (y==6) or (y==7) or (y==8):\n",
    "        return \"Summer\"\n",
    "    elif (y==9) or (y==10) or (y==11):\n",
    "        return \"Fall\""
   ]
  },
  {
   "cell_type": "code",
   "execution_count": 11,
   "metadata": {
    "collapsed": true
   },
   "outputs": [],
   "source": [
    "df['Weekend']=map(isweekend,list(df.Day))\n",
    "df['Season']=map(season,map(getmonth,list(df.Date)))"
   ]
  }
 ],
 "metadata": {
  "kernelspec": {
   "display_name": "Python [conda env:Anaconda2]",
   "language": "python",
   "name": "conda-env-Anaconda2-py"
  },
  "language_info": {
   "codemirror_mode": {
    "name": "ipython",
    "version": 2
   },
   "file_extension": ".py",
   "mimetype": "text/x-python",
   "name": "python",
   "nbconvert_exporter": "python",
   "pygments_lexer": "ipython2",
   "version": "2.7.14"
  }
 },
 "nbformat": 4,
 "nbformat_minor": 2
}
