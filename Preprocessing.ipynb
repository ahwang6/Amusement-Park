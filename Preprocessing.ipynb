{
 "cells": [
  {
   "cell_type": "code",
<<<<<<< HEAD
   "execution_count": 1,
=======
   "execution_count": 8,
>>>>>>> 8f19e122218ed9ca6b580b03f697d1e655fa90e9
   "metadata": {
    "collapsed": true
   },
   "outputs": [],
   "source": [
    "import pandas as pd\n",
<<<<<<< HEAD
    "import numpy as np"
   ]
  },
  {
   "cell_type": "code",
   "execution_count": 2,
   "metadata": {
    "collapsed": true
   },
   "outputs": [],
   "source": [
=======
    "import numpy as np\n",
>>>>>>> 8f19e122218ed9ca6b580b03f697d1e655fa90e9
    "import calendar"
   ]
  },
  {
   "cell_type": "code",
<<<<<<< HEAD
   "execution_count": 3,
   "metadata": {
    "collapsed": true
   },
   "outputs": [],
   "source": [
    "df=pd.read_csv('Train.csv')"
   ]
  },
  {
   "cell_type": "code",
   "execution_count": 4,
   "metadata": {
    "collapsed": true
   },
   "outputs": [],
   "source": [
    "df['TimeStamp']=pd.to_datetime(df['TimeStamp'])"
   ]
  },
  {
   "cell_type": "code",
   "execution_count": 5,
   "metadata": {
    "collapsed": true
   },
   "outputs": [],
   "source": [
    "df['Time']=df['TimeStamp'].dt.time"
   ]
  },
  {
   "cell_type": "code",
   "execution_count": 6,
=======
   "execution_count": 9,
>>>>>>> 8f19e122218ed9ca6b580b03f697d1e655fa90e9
   "metadata": {
    "collapsed": true
   },
   "outputs": [],
   "source": [
    "df=pd.read_csv('Train.csv')\n",
    "df['TimeStamp']=pd.to_datetime(df['TimeStamp'])\n",
    "df['Time']=df['TimeStamp'].dt.time\n",
    "df['Date']=df['TimeStamp'].dt.date\n",
    "df['Day']=df['TimeStamp'].dt.weekday_name"
   ]
  },
  {
   "cell_type": "code",
<<<<<<< HEAD
   "execution_count": 7,
=======
   "execution_count": 10,
>>>>>>> 8f19e122218ed9ca6b580b03f697d1e655fa90e9
   "metadata": {
    "collapsed": true
   },
   "outputs": [],
   "source": [
<<<<<<< HEAD
    "df['Day']=df['TimeStamp'].dt.weekday_name"
   ]
  },
  {
   "cell_type": "code",
   "execution_count": 8,
   "metadata": {
    "collapsed": true
   },
   "outputs": [],
   "source": [
=======
>>>>>>> 8f19e122218ed9ca6b580b03f697d1e655fa90e9
    "def isweekend(s):\n",
    "    if (s=='Saturday') or (s=='Sunday'):\n",
    "        return 1\n",
    "    else:\n",
<<<<<<< HEAD
    "        return 0"
   ]
  },
  {
   "cell_type": "code",
   "execution_count": 9,
   "metadata": {
    "collapsed": true
   },
   "outputs": [],
   "source": [
    "df['Weekend']=map(isweekend,list(df.Day))"
   ]
  },
  {
   "cell_type": "code",
   "execution_count": 10,
   "metadata": {
    "collapsed": true
   },
   "outputs": [],
   "source": [
    "def getmonth(x):\n",
    "    return x.month    "
   ]
  },
  {
   "cell_type": "code",
   "execution_count": 11,
   "metadata": {
    "collapsed": true
   },
   "outputs": [],
   "source": [
=======
    "        return 0\n",
    "def getmonth(x):\n",
    "    return x.month \n",
>>>>>>> 8f19e122218ed9ca6b580b03f697d1e655fa90e9
    "def season(y):\n",
    "    if (y==12) or (y==1) or (y==2):\n",
    "        return \"Winter\"\n",
    "    elif (y==3) or (y==4) or (y==5):\n",
    "        return \"Spring\"\n",
    "    elif (y==6) or (y==7) or (y==8):\n",
    "        return \"Summer\"\n",
    "    elif (y==9) or (y==10) or (y==11):\n",
    "        return \"Fall\""
   ]
  },
  {
   "cell_type": "code",
<<<<<<< HEAD
   "execution_count": 12,
   "metadata": {
    "collapsed": true
   },
   "outputs": [],
   "source": [
    "df['Season']=map(season,map(getmonth,list(df.Date)))"
   ]
  },
  {
   "cell_type": "code",
   "execution_count": 13,
   "metadata": {
    "collapsed": false
   },
   "outputs": [
    {
     "data": {
      "text/html": [
       "<div>\n",
       "<table border=\"1\" class=\"dataframe\">\n",
       "  <thead>\n",
       "    <tr style=\"text-align: right;\">\n",
       "      <th></th>\n",
       "      <th>TimeStamp</th>\n",
       "      <th>StandardTemperature</th>\n",
       "      <th>Humidity</th>\n",
       "      <th>Wind</th>\n",
       "      <th>Ticket1</th>\n",
       "      <th>Ticket2</th>\n",
       "      <th>Time</th>\n",
       "      <th>Date</th>\n",
       "      <th>Day</th>\n",
       "      <th>Weekend</th>\n",
       "      <th>Season</th>\n",
       "    </tr>\n",
       "  </thead>\n",
       "  <tbody>\n",
       "    <tr>\n",
       "      <th>0</th>\n",
       "      <td>2068-04-18 03:00:00</td>\n",
       "      <td>0.284836</td>\n",
       "      <td>47.75442</td>\n",
       "      <td>0.221554</td>\n",
       "      <td>1</td>\n",
       "      <td>3</td>\n",
       "      <td>03:00:00</td>\n",
       "      <td>2068-04-18</td>\n",
       "      <td>Wednesday</td>\n",
       "      <td>0</td>\n",
       "      <td>Spring</td>\n",
       "    </tr>\n",
       "    <tr>\n",
       "      <th>1</th>\n",
       "      <td>2068-05-20 19:00:00</td>\n",
       "      <td>0.614588</td>\n",
       "      <td>48.72900</td>\n",
       "      <td>0.413520</td>\n",
       "      <td>108</td>\n",
       "      <td>233</td>\n",
       "      <td>19:00:00</td>\n",
       "      <td>2068-05-20</td>\n",
       "      <td>Sunday</td>\n",
       "      <td>1</td>\n",
       "      <td>Spring</td>\n",
       "    </tr>\n",
       "    <tr>\n",
       "      <th>2</th>\n",
       "      <td>2067-06-10 21:00:00</td>\n",
       "      <td>0.614588</td>\n",
       "      <td>28.26282</td>\n",
       "      <td>0.103405</td>\n",
       "      <td>52</td>\n",
       "      <td>197</td>\n",
       "      <td>21:00:00</td>\n",
       "      <td>2067-06-10</td>\n",
       "      <td>Friday</td>\n",
       "      <td>0</td>\n",
       "      <td>Summer</td>\n",
       "    </tr>\n",
       "    <tr>\n",
       "      <th>3</th>\n",
       "      <td>2067-01-08 02:00:00</td>\n",
       "      <td>0.269797</td>\n",
       "      <td>77.96640</td>\n",
       "      <td>0.000000</td>\n",
       "      <td>6</td>\n",
       "      <td>28</td>\n",
       "      <td>02:00:00</td>\n",
       "      <td>2067-01-08</td>\n",
       "      <td>Saturday</td>\n",
       "      <td>1</td>\n",
       "      <td>Winter</td>\n",
       "    </tr>\n",
       "    <tr>\n",
       "      <th>4</th>\n",
       "      <td>2067-08-07 00:00:00</td>\n",
       "      <td>0.689581</td>\n",
       "      <td>53.60190</td>\n",
       "      <td>0.088661</td>\n",
       "      <td>34</td>\n",
       "      <td>81</td>\n",
       "      <td>00:00:00</td>\n",
       "      <td>2067-08-07</td>\n",
       "      <td>Sunday</td>\n",
       "      <td>1</td>\n",
       "      <td>Summer</td>\n",
       "    </tr>\n",
       "  </tbody>\n",
       "</table>\n",
       "</div>"
      ],
      "text/plain": [
       "            TimeStamp  StandardTemperature  Humidity      Wind  Ticket1  \\\n",
       "0 2068-04-18 03:00:00             0.284836  47.75442  0.221554        1   \n",
       "1 2068-05-20 19:00:00             0.614588  48.72900  0.413520      108   \n",
       "2 2067-06-10 21:00:00             0.614588  28.26282  0.103405       52   \n",
       "3 2067-01-08 02:00:00             0.269797  77.96640  0.000000        6   \n",
       "4 2067-08-07 00:00:00             0.689581  53.60190  0.088661       34   \n",
       "\n",
       "   Ticket2      Time        Date        Day  Weekend  Season  \n",
       "0        3  03:00:00  2068-04-18  Wednesday        0  Spring  \n",
       "1      233  19:00:00  2068-05-20     Sunday        1  Spring  \n",
       "2      197  21:00:00  2067-06-10     Friday        0  Summer  \n",
       "3       28  02:00:00  2067-01-08   Saturday        1  Winter  \n",
       "4       81  00:00:00  2067-08-07     Sunday        1  Summer  "
      ]
     },
     "execution_count": 13,
     "metadata": {},
     "output_type": "execute_result"
    }
   ],
   "source": [
    "df.head()"
   ]
  },
  {
   "cell_type": "code",
   "execution_count": 15,
   "metadata": {
    "collapsed": true
   },
   "outputs": [],
   "source": [
    "q1 = [1, 2, 3]\n",
    "q2 = [4, 5, 6]\n",
    "q3 = [7, 8, 9]\n",
    "q4 = [10, 11, 12]"
   ]
  },
  {
   "cell_type": "code",
   "execution_count": 16,
   "metadata": {
    "collapsed": true
   },
   "outputs": [],
   "source": [
    "def quaters(m):\n",
    "    if m in q1:\n",
    "        return 'q1'\n",
    "    elif m in q2: \n",
    "        return 'q2'\n",
    "    elif m in q3:\n",
    "        return 'q3'\n",
    "    elif m in q4:\n",
    "        return 'q4'"
   ]
  },
  {
   "cell_type": "code",
   "execution_count": 17,
   "metadata": {
    "collapsed": true
   },
   "outputs": [],
   "source": [
    "df['quarters']=map(quaters,map(getmonth,list(df.Date)))"
   ]
  },
  {
   "cell_type": "code",
   "execution_count": 18,
   "metadata": {
    "collapsed": false
   },
   "outputs": [
    {
     "data": {
      "text/html": [
       "<div>\n",
       "<table border=\"1\" class=\"dataframe\">\n",
       "  <thead>\n",
       "    <tr style=\"text-align: right;\">\n",
       "      <th></th>\n",
       "      <th>TimeStamp</th>\n",
       "      <th>StandardTemperature</th>\n",
       "      <th>Humidity</th>\n",
       "      <th>Wind</th>\n",
       "      <th>Ticket1</th>\n",
       "      <th>Ticket2</th>\n",
       "      <th>Time</th>\n",
       "      <th>Date</th>\n",
       "      <th>Day</th>\n",
       "      <th>Weekend</th>\n",
       "      <th>Season</th>\n",
       "      <th>quarters</th>\n",
       "    </tr>\n",
       "  </thead>\n",
       "  <tbody>\n",
       "    <tr>\n",
       "      <th>0</th>\n",
       "      <td>2068-04-18 03:00:00</td>\n",
       "      <td>0.284836</td>\n",
       "      <td>47.75442</td>\n",
       "      <td>0.221554</td>\n",
       "      <td>1</td>\n",
       "      <td>3</td>\n",
       "      <td>03:00:00</td>\n",
       "      <td>2068-04-18</td>\n",
       "      <td>Wednesday</td>\n",
       "      <td>0</td>\n",
       "      <td>Spring</td>\n",
       "      <td>q2</td>\n",
       "    </tr>\n",
       "    <tr>\n",
       "      <th>1</th>\n",
       "      <td>2068-05-20 19:00:00</td>\n",
       "      <td>0.614588</td>\n",
       "      <td>48.72900</td>\n",
       "      <td>0.413520</td>\n",
       "      <td>108</td>\n",
       "      <td>233</td>\n",
       "      <td>19:00:00</td>\n",
       "      <td>2068-05-20</td>\n",
       "      <td>Sunday</td>\n",
       "      <td>1</td>\n",
       "      <td>Spring</td>\n",
       "      <td>q2</td>\n",
       "    </tr>\n",
       "    <tr>\n",
       "      <th>2</th>\n",
       "      <td>2067-06-10 21:00:00</td>\n",
       "      <td>0.614588</td>\n",
       "      <td>28.26282</td>\n",
       "      <td>0.103405</td>\n",
       "      <td>52</td>\n",
       "      <td>197</td>\n",
       "      <td>21:00:00</td>\n",
       "      <td>2067-06-10</td>\n",
       "      <td>Friday</td>\n",
       "      <td>0</td>\n",
       "      <td>Summer</td>\n",
       "      <td>q2</td>\n",
       "    </tr>\n",
       "    <tr>\n",
       "      <th>3</th>\n",
       "      <td>2067-01-08 02:00:00</td>\n",
       "      <td>0.269797</td>\n",
       "      <td>77.96640</td>\n",
       "      <td>0.000000</td>\n",
       "      <td>6</td>\n",
       "      <td>28</td>\n",
       "      <td>02:00:00</td>\n",
       "      <td>2067-01-08</td>\n",
       "      <td>Saturday</td>\n",
       "      <td>1</td>\n",
       "      <td>Winter</td>\n",
       "      <td>q1</td>\n",
       "    </tr>\n",
       "    <tr>\n",
       "      <th>4</th>\n",
       "      <td>2067-08-07 00:00:00</td>\n",
       "      <td>0.689581</td>\n",
       "      <td>53.60190</td>\n",
       "      <td>0.088661</td>\n",
       "      <td>34</td>\n",
       "      <td>81</td>\n",
       "      <td>00:00:00</td>\n",
       "      <td>2067-08-07</td>\n",
       "      <td>Sunday</td>\n",
       "      <td>1</td>\n",
       "      <td>Summer</td>\n",
       "      <td>q3</td>\n",
       "    </tr>\n",
       "  </tbody>\n",
       "</table>\n",
       "</div>"
      ],
      "text/plain": [
       "            TimeStamp  StandardTemperature  Humidity      Wind  Ticket1  \\\n",
       "0 2068-04-18 03:00:00             0.284836  47.75442  0.221554        1   \n",
       "1 2068-05-20 19:00:00             0.614588  48.72900  0.413520      108   \n",
       "2 2067-06-10 21:00:00             0.614588  28.26282  0.103405       52   \n",
       "3 2067-01-08 02:00:00             0.269797  77.96640  0.000000        6   \n",
       "4 2067-08-07 00:00:00             0.689581  53.60190  0.088661       34   \n",
       "\n",
       "   Ticket2      Time        Date        Day  Weekend  Season quarters  \n",
       "0        3  03:00:00  2068-04-18  Wednesday        0  Spring       q2  \n",
       "1      233  19:00:00  2068-05-20     Sunday        1  Spring       q2  \n",
       "2      197  21:00:00  2067-06-10     Friday        0  Summer       q2  \n",
       "3       28  02:00:00  2067-01-08   Saturday        1  Winter       q1  \n",
       "4       81  00:00:00  2067-08-07     Sunday        1  Summer       q3  "
      ]
     },
     "execution_count": 18,
     "metadata": {},
     "output_type": "execute_result"
    }
   ],
   "source": [
    "df.head()"
   ]
  },
  {
   "cell_type": "code",
   "execution_count": 19,
   "metadata": {
    "collapsed": true
   },
   "outputs": [],
   "source": [
    "df.to_csv('Clean_data2.csv')"
   ]
  },
  {
   "cell_type": "code",
   "execution_count": null,
=======
   "execution_count": 11,
>>>>>>> 8f19e122218ed9ca6b580b03f697d1e655fa90e9
   "metadata": {
    "collapsed": true
   },
   "outputs": [],
   "source": [
    "df['Weekend']=map(isweekend,list(df.Day))\n",
    "df['Season']=map(season,map(getmonth,list(df.Date)))"
   ]
  }
 ],
 "metadata": {
  "kernelspec": {
   "display_name": "Python 2",
   "language": "python",
   "name": "python2"
  },
  "language_info": {
   "codemirror_mode": {
    "name": "ipython",
    "version": 2
   },
   "file_extension": ".py",
   "mimetype": "text/x-python",
   "name": "python",
   "nbconvert_exporter": "python",
   "pygments_lexer": "ipython2",
   "version": "2.7.5"
  }
 },
 "nbformat": 4,
 "nbformat_minor": 2
}
